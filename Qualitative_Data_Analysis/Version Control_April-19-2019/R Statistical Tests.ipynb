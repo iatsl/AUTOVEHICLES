{
 "cells": [
  {
   "cell_type": "markdown",
   "metadata": {},
   "source": [
    "# The follwoing tests are icluded in this script:\n",
    "\n",
    "1. Normality Checks (Shapiro-Wilk Test)\n",
    "2. "
   ]
  },
  {
   "cell_type": "code",
   "execution_count": 27,
   "metadata": {},
   "outputs": [
    {
     "ename": "ERROR",
     "evalue": "Error in library(\"ggpubr\"): there is no package called 'ggpubr'\n",
     "output_type": "error",
     "traceback": [
      "Error in library(\"ggpubr\"): there is no package called 'ggpubr'\nTraceback:\n",
      "1. library(\"ggpubr\")",
      "2. stop(txt, domain = NA)"
     ]
    }
   ],
   "source": [
    "# Initialization\n",
    "\n",
    "library(\"dplyr\")\n",
    "library(\"ggpubr\")"
   ]
  },
  {
   "cell_type": "markdown",
   "metadata": {},
   "source": [
    "## 1. Normality Checks\n",
    "\n",
    "The smaller the p-value the more confident we can be in rejecting the Null hypothesis as true."
   ]
  },
  {
   "cell_type": "code",
   "execution_count": 29,
   "metadata": {
    "scrolled": true
   },
   "outputs": [
    {
     "data": {
      "text/html": [
       "<table>\n",
       "<thead><tr><th scope=col>Performance.Expectancy</th><th scope=col>Effort.Expectancy</th><th scope=col>Social.Influence</th><th scope=col>Facilitating.Conditions</th><th scope=col>Attitude</th><th scope=col>Self.Efficay</th><th scope=col>Anxiety</th><th scope=col>Intention.to.Use</th><th scope=col>Percieved.Safety</th><th scope=col>median</th><th scope=col>mean</th><th scope=col>scenario</th><th scope=col>Age</th><th scope=col>Years.of.Driving.Experience</th><th scope=col>MoCA.Score</th><th scope=col>Visual.Acquity.Score..LogMAR._Right</th><th scope=col>Visual.Acquity.Score..LogMAR._Left</th></tr></thead>\n",
       "<tbody>\n",
       "\t<tr><td>4.666667</td><td>4.666667</td><td>4.666667</td><td>4.0     </td><td>4.666667</td><td>4.333333</td><td>5.0     </td><td>3.0     </td><td>4.333333</td><td>5.000000</td><td>5.100000</td><td>norm    </td><td>66      </td><td>50      </td><td>27      </td><td>0.16    </td><td>0.08    </td></tr>\n",
       "\t<tr><td>5.666667</td><td>7.000000</td><td>3.000000</td><td>5.5     </td><td>3.666667</td><td>6.000000</td><td>5.5     </td><td>7.0     </td><td>3.000000</td><td>6.000000</td><td>6.000000</td><td>norm    </td><td>81      </td><td>65      </td><td>27      </td><td>0.18    </td><td>0.30    </td></tr>\n",
       "\t<tr><td>4.333333</td><td>5.666667</td><td>5.666667</td><td>5.0     </td><td>4.000000</td><td>5.333333</td><td>4.5     </td><td>4.0     </td><td>3.666667</td><td>4.666667</td><td>4.766667</td><td>norm    </td><td>89      </td><td>65      </td><td>26      </td><td>0.30    </td><td>0.18    </td></tr>\n",
       "\t<tr><td>3.333333</td><td>2.333333</td><td>2.000000</td><td>1.0     </td><td>1.333333</td><td>2.333333</td><td>7.0     </td><td>1.0     </td><td>1.000000</td><td>1.666667</td><td>2.550000</td><td>norm    </td><td>67      </td><td>51      </td><td>29      </td><td>0.24    </td><td>0.10    </td></tr>\n",
       "\t<tr><td>2.666667</td><td>3.333333</td><td>2.000000</td><td>2.0     </td><td>2.333333</td><td>5.000000</td><td>6.0     </td><td>2.0     </td><td>2.666667</td><td>1.666667</td><td>2.316667</td><td>norm    </td><td>81      </td><td>66      </td><td>27      </td><td>0.30    </td><td>0.18    </td></tr>\n",
       "\t<tr><td>5.333333</td><td>6.666667</td><td>5.000000</td><td>5.0     </td><td>4.666667</td><td>5.000000</td><td>5.5     </td><td>3.5     </td><td>5.333333</td><td>5.000000</td><td>5.100000</td><td>rain    </td><td>66      </td><td>50      </td><td>27      </td><td>0.16    </td><td>0.08    </td></tr>\n",
       "\t<tr><td>5.666667</td><td>7.000000</td><td>5.000000</td><td>7.0     </td><td>4.333333</td><td>7.000000</td><td>5.0     </td><td>7.0     </td><td>6.000000</td><td>6.000000</td><td>6.000000</td><td>rain    </td><td>81      </td><td>65      </td><td>27      </td><td>0.18    </td><td>0.30    </td></tr>\n",
       "\t<tr><td>4.666667</td><td>6.000000</td><td>5.666667</td><td>5.0     </td><td>4.333333</td><td>4.666667</td><td>6.0     </td><td>4.0     </td><td>2.666667</td><td>4.666667</td><td>4.766667</td><td>rain    </td><td>89      </td><td>65      </td><td>26      </td><td>0.30    </td><td>0.18    </td></tr>\n",
       "\t<tr><td>3.000000</td><td>2.666667</td><td>1.666667</td><td>1.5     </td><td>1.333333</td><td>4.666667</td><td>7.0     </td><td>1.0     </td><td>1.000000</td><td>1.666667</td><td>2.550000</td><td>rain    </td><td>67      </td><td>51      </td><td>29      </td><td>0.24    </td><td>0.10    </td></tr>\n",
       "\t<tr><td>1.666667</td><td>2.333333</td><td>1.000000</td><td>1.5     </td><td>1.666667</td><td>3.000000</td><td>6.5     </td><td>1.5     </td><td>2.333333</td><td>1.666667</td><td>2.316667</td><td>rain    </td><td>81      </td><td>66      </td><td>27      </td><td>0.30    </td><td>0.18    </td></tr>\n",
       "</tbody>\n",
       "</table>\n"
      ],
      "text/latex": [
       "\\begin{tabular}{r|lllllllllllllllll}\n",
       " Performance.Expectancy & Effort.Expectancy & Social.Influence & Facilitating.Conditions & Attitude & Self.Efficay & Anxiety & Intention.to.Use & Percieved.Safety & median & mean & scenario & Age & Years.of.Driving.Experience & MoCA.Score & Visual.Acquity.Score..LogMAR.\\_Right & Visual.Acquity.Score..LogMAR.\\_Left\\\\\n",
       "\\hline\n",
       "\t 4.666667 & 4.666667 & 4.666667 & 4.0      & 4.666667 & 4.333333 & 5.0      & 3.0      & 4.333333 & 5.000000 & 5.100000 & norm     & 66       & 50       & 27       & 0.16     & 0.08    \\\\\n",
       "\t 5.666667 & 7.000000 & 3.000000 & 5.5      & 3.666667 & 6.000000 & 5.5      & 7.0      & 3.000000 & 6.000000 & 6.000000 & norm     & 81       & 65       & 27       & 0.18     & 0.30    \\\\\n",
       "\t 4.333333 & 5.666667 & 5.666667 & 5.0      & 4.000000 & 5.333333 & 4.5      & 4.0      & 3.666667 & 4.666667 & 4.766667 & norm     & 89       & 65       & 26       & 0.30     & 0.18    \\\\\n",
       "\t 3.333333 & 2.333333 & 2.000000 & 1.0      & 1.333333 & 2.333333 & 7.0      & 1.0      & 1.000000 & 1.666667 & 2.550000 & norm     & 67       & 51       & 29       & 0.24     & 0.10    \\\\\n",
       "\t 2.666667 & 3.333333 & 2.000000 & 2.0      & 2.333333 & 5.000000 & 6.0      & 2.0      & 2.666667 & 1.666667 & 2.316667 & norm     & 81       & 66       & 27       & 0.30     & 0.18    \\\\\n",
       "\t 5.333333 & 6.666667 & 5.000000 & 5.0      & 4.666667 & 5.000000 & 5.5      & 3.5      & 5.333333 & 5.000000 & 5.100000 & rain     & 66       & 50       & 27       & 0.16     & 0.08    \\\\\n",
       "\t 5.666667 & 7.000000 & 5.000000 & 7.0      & 4.333333 & 7.000000 & 5.0      & 7.0      & 6.000000 & 6.000000 & 6.000000 & rain     & 81       & 65       & 27       & 0.18     & 0.30    \\\\\n",
       "\t 4.666667 & 6.000000 & 5.666667 & 5.0      & 4.333333 & 4.666667 & 6.0      & 4.0      & 2.666667 & 4.666667 & 4.766667 & rain     & 89       & 65       & 26       & 0.30     & 0.18    \\\\\n",
       "\t 3.000000 & 2.666667 & 1.666667 & 1.5      & 1.333333 & 4.666667 & 7.0      & 1.0      & 1.000000 & 1.666667 & 2.550000 & rain     & 67       & 51       & 29       & 0.24     & 0.10    \\\\\n",
       "\t 1.666667 & 2.333333 & 1.000000 & 1.5      & 1.666667 & 3.000000 & 6.5      & 1.5      & 2.333333 & 1.666667 & 2.316667 & rain     & 81       & 66       & 27       & 0.30     & 0.18    \\\\\n",
       "\\end{tabular}\n"
      ],
      "text/markdown": [
       "\n",
       "Performance.Expectancy | Effort.Expectancy | Social.Influence | Facilitating.Conditions | Attitude | Self.Efficay | Anxiety | Intention.to.Use | Percieved.Safety | median | mean | scenario | Age | Years.of.Driving.Experience | MoCA.Score | Visual.Acquity.Score..LogMAR._Right | Visual.Acquity.Score..LogMAR._Left | \n",
       "|---|---|---|---|---|---|---|---|---|---|\n",
       "| 4.666667 | 4.666667 | 4.666667 | 4.0      | 4.666667 | 4.333333 | 5.0      | 3.0      | 4.333333 | 5.000000 | 5.100000 | norm     | 66       | 50       | 27       | 0.16     | 0.08     | \n",
       "| 5.666667 | 7.000000 | 3.000000 | 5.5      | 3.666667 | 6.000000 | 5.5      | 7.0      | 3.000000 | 6.000000 | 6.000000 | norm     | 81       | 65       | 27       | 0.18     | 0.30     | \n",
       "| 4.333333 | 5.666667 | 5.666667 | 5.0      | 4.000000 | 5.333333 | 4.5      | 4.0      | 3.666667 | 4.666667 | 4.766667 | norm     | 89       | 65       | 26       | 0.30     | 0.18     | \n",
       "| 3.333333 | 2.333333 | 2.000000 | 1.0      | 1.333333 | 2.333333 | 7.0      | 1.0      | 1.000000 | 1.666667 | 2.550000 | norm     | 67       | 51       | 29       | 0.24     | 0.10     | \n",
       "| 2.666667 | 3.333333 | 2.000000 | 2.0      | 2.333333 | 5.000000 | 6.0      | 2.0      | 2.666667 | 1.666667 | 2.316667 | norm     | 81       | 66       | 27       | 0.30     | 0.18     | \n",
       "| 5.333333 | 6.666667 | 5.000000 | 5.0      | 4.666667 | 5.000000 | 5.5      | 3.5      | 5.333333 | 5.000000 | 5.100000 | rain     | 66       | 50       | 27       | 0.16     | 0.08     | \n",
       "| 5.666667 | 7.000000 | 5.000000 | 7.0      | 4.333333 | 7.000000 | 5.0      | 7.0      | 6.000000 | 6.000000 | 6.000000 | rain     | 81       | 65       | 27       | 0.18     | 0.30     | \n",
       "| 4.666667 | 6.000000 | 5.666667 | 5.0      | 4.333333 | 4.666667 | 6.0      | 4.0      | 2.666667 | 4.666667 | 4.766667 | rain     | 89       | 65       | 26       | 0.30     | 0.18     | \n",
       "| 3.000000 | 2.666667 | 1.666667 | 1.5      | 1.333333 | 4.666667 | 7.0      | 1.0      | 1.000000 | 1.666667 | 2.550000 | rain     | 67       | 51       | 29       | 0.24     | 0.10     | \n",
       "| 1.666667 | 2.333333 | 1.000000 | 1.5      | 1.666667 | 3.000000 | 6.5      | 1.5      | 2.333333 | 1.666667 | 2.316667 | rain     | 81       | 66       | 27       | 0.30     | 0.18     | \n",
       "\n",
       "\n"
      ],
      "text/plain": [
       "   Performance.Expectancy Effort.Expectancy Social.Influence\n",
       "1  4.666667               4.666667          4.666667        \n",
       "2  5.666667               7.000000          3.000000        \n",
       "3  4.333333               5.666667          5.666667        \n",
       "4  3.333333               2.333333          2.000000        \n",
       "5  2.666667               3.333333          2.000000        \n",
       "6  5.333333               6.666667          5.000000        \n",
       "7  5.666667               7.000000          5.000000        \n",
       "8  4.666667               6.000000          5.666667        \n",
       "9  3.000000               2.666667          1.666667        \n",
       "10 1.666667               2.333333          1.000000        \n",
       "   Facilitating.Conditions Attitude Self.Efficay Anxiety Intention.to.Use\n",
       "1  4.0                     4.666667 4.333333     5.0     3.0             \n",
       "2  5.5                     3.666667 6.000000     5.5     7.0             \n",
       "3  5.0                     4.000000 5.333333     4.5     4.0             \n",
       "4  1.0                     1.333333 2.333333     7.0     1.0             \n",
       "5  2.0                     2.333333 5.000000     6.0     2.0             \n",
       "6  5.0                     4.666667 5.000000     5.5     3.5             \n",
       "7  7.0                     4.333333 7.000000     5.0     7.0             \n",
       "8  5.0                     4.333333 4.666667     6.0     4.0             \n",
       "9  1.5                     1.333333 4.666667     7.0     1.0             \n",
       "10 1.5                     1.666667 3.000000     6.5     1.5             \n",
       "   Percieved.Safety median   mean     scenario Age Years.of.Driving.Experience\n",
       "1  4.333333         5.000000 5.100000 norm     66  50                         \n",
       "2  3.000000         6.000000 6.000000 norm     81  65                         \n",
       "3  3.666667         4.666667 4.766667 norm     89  65                         \n",
       "4  1.000000         1.666667 2.550000 norm     67  51                         \n",
       "5  2.666667         1.666667 2.316667 norm     81  66                         \n",
       "6  5.333333         5.000000 5.100000 rain     66  50                         \n",
       "7  6.000000         6.000000 6.000000 rain     81  65                         \n",
       "8  2.666667         4.666667 4.766667 rain     89  65                         \n",
       "9  1.000000         1.666667 2.550000 rain     67  51                         \n",
       "10 2.333333         1.666667 2.316667 rain     81  66                         \n",
       "   MoCA.Score Visual.Acquity.Score..LogMAR._Right\n",
       "1  27         0.16                               \n",
       "2  27         0.18                               \n",
       "3  26         0.30                               \n",
       "4  29         0.24                               \n",
       "5  27         0.30                               \n",
       "6  27         0.16                               \n",
       "7  27         0.18                               \n",
       "8  26         0.30                               \n",
       "9  29         0.24                               \n",
       "10 27         0.30                               \n",
       "   Visual.Acquity.Score..LogMAR._Left\n",
       "1  0.08                              \n",
       "2  0.30                              \n",
       "3  0.18                              \n",
       "4  0.10                              \n",
       "5  0.18                              \n",
       "6  0.08                              \n",
       "7  0.30                              \n",
       "8  0.18                              \n",
       "9  0.10                              \n",
       "10 0.18                              "
      ]
     },
     "metadata": {},
     "output_type": "display_data"
    }
   ],
   "source": [
    "# Reading the data\n",
    "data <- read.csv(file.choose())\n",
    "data"
   ]
  },
  {
   "cell_type": "markdown",
   "metadata": {},
   "source": [
    "### 1.1 Shapiro-Wilk Test\n",
    "From the output, the p-value > 0.05 implying that the distribution of the data are not significantly different from normal distribution. In other words, we can assume the normality."
   ]
  },
  {
   "cell_type": "code",
   "execution_count": 46,
   "metadata": {},
   "outputs": [
    {
     "name": "stdout",
     "output_type": "stream",
     "text": [
      "Enter the name of the variable for Shapiro Test: mean\n"
     ]
    }
   ],
   "source": [
    "variable <- readline(prompt=\"Enter the name of the variable for Shapiro Test: \")\n",
    "single_variable_data <- dplyr::pull(data, variable)"
   ]
  },
  {
   "cell_type": "code",
   "execution_count": 47,
   "metadata": {
    "scrolled": true
   },
   "outputs": [
    {
     "data": {
      "text/plain": [
       "\n",
       "\tShapiro-Wilk normality test\n",
       "\n",
       "data:  single_variable_data\n",
       "W = 0.82394, p-value = 0.02827\n"
      ]
     },
     "metadata": {},
     "output_type": "display_data"
    }
   ],
   "source": [
    "shapiro.test(single_variable_data)"
   ]
  },
  {
   "cell_type": "markdown",
   "metadata": {},
   "source": [
    "### 1.2 Q-Q plot\n",
    "Q-Q plot (or quantile-quantile plot) draws the correlation between a given sample and the normal distribution. A 45-degree reference line is also plotted."
   ]
  },
  {
   "cell_type": "code",
   "execution_count": 45,
   "metadata": {},
   "outputs": [
    {
     "ename": "ERROR",
     "evalue": "Error in library(ggpubr): there is no package called 'ggpubr'\n",
     "output_type": "error",
     "traceback": [
      "Error in library(ggpubr): there is no package called 'ggpubr'\nTraceback:\n",
      "1. library(ggpubr)",
      "2. stop(txt, domain = NA)"
     ]
    }
   ],
   "source": [
    "ggpubr::ggqqplot(single_variable_data)"
   ]
  },
  {
   "cell_type": "markdown",
   "metadata": {},
   "source": [
    "# References\n",
    "\n",
    "1. dplyr cheat sheet:\n",
    "https://github.com/rstudio/cheatsheets/blob/master/data-transformation.pdf"
   ]
  },
  {
   "cell_type": "code",
   "execution_count": null,
   "metadata": {},
   "outputs": [],
   "source": []
  }
 ],
 "metadata": {
  "kernelspec": {
   "display_name": "R",
   "language": "R",
   "name": "ir"
  },
  "language_info": {
   "codemirror_mode": "r",
   "file_extension": ".r",
   "mimetype": "text/x-r-source",
   "name": "R",
   "pygments_lexer": "r",
   "version": "3.5.1"
  }
 },
 "nbformat": 4,
 "nbformat_minor": 2
}
