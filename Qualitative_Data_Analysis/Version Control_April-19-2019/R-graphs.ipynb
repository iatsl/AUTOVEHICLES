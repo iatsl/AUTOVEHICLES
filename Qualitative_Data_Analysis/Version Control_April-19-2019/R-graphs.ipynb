{
 "cells": [
  {
   "cell_type": "markdown",
   "metadata": {
    "scrolled": false
   },
   "source": [
    "# The following graph and Table Scripts are included in this file:\n",
    "\n",
    "1. APA correlation Table\n",
    "2."
   ]
  },
  {
   "cell_type": "code",
   "execution_count": 1,
   "metadata": {},
   "outputs": [],
   "source": [
    "library(apaTables)"
   ]
  },
  {
   "cell_type": "code",
   "execution_count": 2,
   "metadata": {},
   "outputs": [
    {
     "data": {
      "text/plain": [
       "\n",
       "\n",
       "Table 1 \n",
       "\n",
       "Means, standard deviations, and correlations with confidence intervals\n",
       " \n",
       "\n",
       "  Variable      M     SD    1           2           3           4          \n",
       "  1. rating     64.63 12.17                                                \n",
       "                                                                           \n",
       "  2. complaints 66.60 13.31 .83**                                          \n",
       "                            [.66, .91]                                     \n",
       "                                                                           \n",
       "  3. privileges 53.13 12.24 .43*        .56**                              \n",
       "                            [.08, .68]  [.25, .76]                         \n",
       "                                                                           \n",
       "  4. learning   56.37 11.74 .62**       .60**       .49**                  \n",
       "                            [.34, .80]  [.30, .79]  [.16, .72]             \n",
       "                                                                           \n",
       "  5. raises     64.63 10.40 .59**       .67**       .45*        .64**      \n",
       "                            [.29, .78]  [.41, .83]  [.10, .69]  [.36, .81] \n",
       "                                                                           \n",
       "  6. critical   74.77 9.89  .16         .19         .15         .12        \n",
       "                            [-.22, .49] [-.19, .51] [-.22, .48] [-.25, .46]\n",
       "                                                                           \n",
       "  7. advance    42.93 10.29 .16         .22         .34         .53**      \n",
       "                            [-.22, .49] [-.15, .54] [-.02, .63] [.21, .75] \n",
       "                                                                           \n",
       "  5          6          \n",
       "                        \n",
       "                        \n",
       "                        \n",
       "                        \n",
       "                        \n",
       "                        \n",
       "                        \n",
       "                        \n",
       "                        \n",
       "                        \n",
       "                        \n",
       "                        \n",
       "                        \n",
       "                        \n",
       "  .38*                  \n",
       "  [.02, .65]            \n",
       "                        \n",
       "  .57**      .28        \n",
       "  [.27, .77] [-.09, .58]\n",
       "                        \n",
       "\n",
       "Note. M and SD are used to represent mean and standard deviation, respectively.\n",
       "Values in square brackets indicate the 95% confidence interval.\n",
       "The confidence interval is a plausible range of population correlations \n",
       "that could have caused the sample correlation (Cumming, 2014).\n",
       "* indicates p < .05. ** indicates p < .01.\n",
       " \n"
      ]
     },
     "metadata": {},
     "output_type": "display_data"
    }
   ],
   "source": [
    "apa.cor.table(attitude, filename=\"Table1_APA.doc\", table.number=1)"
   ]
  },
  {
   "cell_type": "code",
   "execution_count": 9,
   "metadata": {},
   "outputs": [
    {
     "ename": "ERROR",
     "evalue": "Error in apa.table(data = example, level1.header = c(\"Variable\", \"M\", : could not find function \"apa.table\"\n",
     "output_type": "error",
     "traceback": [
      "Error in apa.table(data = example, level1.header = c(\"Variable\", \"M\", : could not find function \"apa.table\"\nTraceback:\n"
     ]
    }
   ],
   "source": [
    "example <- data.frame(\n",
    "  c(\"Column 1\", \"Column 2\", \"Column 3\"),\n",
    "  c(3.45, 5.21, 2.64),\n",
    "  c(1.23, 1.06, 1.12)\n",
    ")\n",
    "\n",
    "# Create table\n",
    "apa.table(data = example, level1.header = c(\"Variable\", \"M\", \"SD\"))"
   ]
  },
  {
   "cell_type": "code",
   "execution_count": 5,
   "metadata": {},
   "outputs": [
    {
     "ename": "ERROR",
     "evalue": "Error in apa.table(data = example, level1.header = c(\"\", \"Descriptives\", : could not find function \"apa.table\"\n",
     "output_type": "error",
     "traceback": [
      "Error in apa.table(data = example, level1.header = c(\"\", \"Descriptives\", : could not find function \"apa.table\"\nTraceback:\n"
     ]
    }
   ],
   "source": [
    "\n",
    "\n",
    "# Create a table with two headers\n",
    "# Specify statistics\n",
    "example <- data.frame(\n",
    "  c(\"Column 1\", \"Column 2\", \"Column 3\"),\n",
    "  c(3.45, 5.21, 2.64),\n",
    "  c(1.23, 1.06, 1.12),\n",
    "  c(8.22, 25.12, 30.27),\n",
    "  c(\"+\", \"**\", \"***\")\n",
    ")\n",
    "\n",
    "# Run method and preview table\n",
    "apa.table(\n",
    "  data = example,\n",
    "  level1.header = c(\"\", \"Descriptives\", \"Inferential\"),\n",
    "  level1.colspan = c(1, 2, 2),\n",
    "  level2.header = c(\"Variable\", \"M\", \"SD\", \"t-value\", \"*\")\n",
    ")$table"
   ]
  },
  {
   "cell_type": "code",
   "execution_count": null,
   "metadata": {},
   "outputs": [],
   "source": []
  }
 ],
 "metadata": {
  "kernelspec": {
   "display_name": "R",
   "language": "R",
   "name": "ir"
  },
  "language_info": {
   "codemirror_mode": "r",
   "file_extension": ".r",
   "mimetype": "text/x-r-source",
   "name": "R",
   "pygments_lexer": "r",
   "version": "3.5.1"
  }
 },
 "nbformat": 4,
 "nbformat_minor": 2
}
