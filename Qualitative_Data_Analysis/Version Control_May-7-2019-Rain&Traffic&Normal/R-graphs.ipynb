{
 "cells": [
  {
   "cell_type": "markdown",
   "metadata": {
    "scrolled": false
   },
   "source": [
    "# The following graph and Table Scripts are included in this file:\n",
    "\n",
    "1. APA Drop out rates acroos three different designs\n",
    "2. APA correlation Table\n",
    "2."
   ]
  },
  {
   "cell_type": "code",
   "execution_count": 7,
   "metadata": {},
   "outputs": [],
   "source": [
    "library(apaTables)\n",
    "library(corrplot)"
   ]
  },
  {
   "cell_type": "code",
   "execution_count": 24,
   "metadata": {},
   "outputs": [
    {
     "ename": "ERROR",
     "evalue": "Error in matrix(if (is.null(value)) logical() else value, nrow = nr, dimnames = list(rn, : length of 'dimnames' [2] not equal to array extent\n",
     "output_type": "error",
     "traceback": [
      "Error in matrix(if (is.null(value)) logical() else value, nrow = nr, dimnames = list(rn, : length of 'dimnames' [2] not equal to array extent\nTraceback:\n",
      "1. corrplot(results, type = \"upper\", order = \"hclust\", tl.col = \"black\", \n .     tl.srt = 45)",
      "2. Ops.data.frame(corr, cl.lim[1])",
      "3. matrix(if (is.null(value)) logical() else value, nrow = nr, dimnames = list(rn, \n .     cn))"
     ]
    }
   ],
   "source": [
    "data <- read.csv('democorr.csv', TRUE)\n",
    "results <- data[-1]\n",
    "row.names(results) <- data$X\n",
    "\n",
    "corrplot(results, type = \"upper\", order = \"hclust\", \n",
    "         tl.col = \"black\", tl.srt = 45)"
   ]
  },
  {
   "cell_type": "code",
   "execution_count": 25,
   "metadata": {},
   "outputs": [
    {
     "data": {
      "text/html": [
       "<table>\n",
       "<thead><tr><th></th><th scope=col>Age</th><th scope=col>Years.of.Driving.Experience</th><th scope=col>MoCA.Score</th><th scope=col>Visual.Acuity.Score..LogMAR._Right</th><th scope=col>Visual.Acuity.Score..LogMAR._Left</th></tr></thead>\n",
       "<tbody>\n",
       "\t<tr><th scope=row>Age</th><td> 1.0000000 </td><td> 0.8700465 </td><td>-0.60560325</td><td> 0.7470813 </td><td> 0.76618442</td></tr>\n",
       "\t<tr><th scope=row>Years of Driving Experience</th><td> 0.8700465 </td><td> 1.0000000 </td><td>-0.43307230</td><td> 0.6370108 </td><td> 0.69424751</td></tr>\n",
       "\t<tr><th scope=row>MoCA Score</th><td>-0.6056032 </td><td>-0.4330723 </td><td> 1.00000000</td><td>-0.2079873 </td><td>-0.06204144</td></tr>\n",
       "\t<tr><th scope=row>Visual Acuity Score (LogMAR)_Right</th><td> 0.7470813 </td><td> 0.6370108 </td><td>-0.20798733</td><td> 1.0000000 </td><td> 0.80731751</td></tr>\n",
       "\t<tr><th scope=row>Visual Acuity Score (LogMAR)_Left</th><td> 0.7661844 </td><td> 0.6942475 </td><td>-0.06204144</td><td> 0.8073175 </td><td> 1.00000000</td></tr>\n",
       "</tbody>\n",
       "</table>\n"
      ],
      "text/latex": [
       "\\begin{tabular}{r|lllll}\n",
       "  & Age & Years.of.Driving.Experience & MoCA.Score & Visual.Acuity.Score..LogMAR.\\_Right & Visual.Acuity.Score..LogMAR.\\_Left\\\\\n",
       "\\hline\n",
       "\tAge &  1.0000000  &  0.8700465  & -0.60560325 &  0.7470813  &  0.76618442\\\\\n",
       "\tYears of Driving Experience &  0.8700465  &  1.0000000  & -0.43307230 &  0.6370108  &  0.69424751\\\\\n",
       "\tMoCA Score & -0.6056032  & -0.4330723  &  1.00000000 & -0.2079873  & -0.06204144\\\\\n",
       "\tVisual Acuity Score (LogMAR)\\_Right &  0.7470813  &  0.6370108  & -0.20798733 &  1.0000000  &  0.80731751\\\\\n",
       "\tVisual Acuity Score (LogMAR)\\_Left &  0.7661844  &  0.6942475  & -0.06204144 &  0.8073175  &  1.00000000\\\\\n",
       "\\end{tabular}\n"
      ],
      "text/markdown": [
       "\n",
       "| <!--/--> | Age | Years.of.Driving.Experience | MoCA.Score | Visual.Acuity.Score..LogMAR._Right | Visual.Acuity.Score..LogMAR._Left | \n",
       "|---|---|---|---|---|\n",
       "| Age |  1.0000000  |  0.8700465  | -0.60560325 |  0.7470813  |  0.76618442 | \n",
       "| Years of Driving Experience |  0.8700465  |  1.0000000  | -0.43307230 |  0.6370108  |  0.69424751 | \n",
       "| MoCA Score | -0.6056032  | -0.4330723  |  1.00000000 | -0.2079873  | -0.06204144 | \n",
       "| Visual Acuity Score (LogMAR)_Right |  0.7470813  |  0.6370108  | -0.20798733 |  1.0000000  |  0.80731751 | \n",
       "| Visual Acuity Score (LogMAR)_Left |  0.7661844  |  0.6942475  | -0.06204144 |  0.8073175  |  1.00000000 | \n",
       "\n",
       "\n"
      ],
      "text/plain": [
       "                                   Age        Years.of.Driving.Experience\n",
       "Age                                 1.0000000  0.8700465                 \n",
       "Years of Driving Experience         0.8700465  1.0000000                 \n",
       "MoCA Score                         -0.6056032 -0.4330723                 \n",
       "Visual Acuity Score (LogMAR)_Right  0.7470813  0.6370108                 \n",
       "Visual Acuity Score (LogMAR)_Left   0.7661844  0.6942475                 \n",
       "                                   MoCA.Score \n",
       "Age                                -0.60560325\n",
       "Years of Driving Experience        -0.43307230\n",
       "MoCA Score                          1.00000000\n",
       "Visual Acuity Score (LogMAR)_Right -0.20798733\n",
       "Visual Acuity Score (LogMAR)_Left  -0.06204144\n",
       "                                   Visual.Acuity.Score..LogMAR._Right\n",
       "Age                                 0.7470813                        \n",
       "Years of Driving Experience         0.6370108                        \n",
       "MoCA Score                         -0.2079873                        \n",
       "Visual Acuity Score (LogMAR)_Right  1.0000000                        \n",
       "Visual Acuity Score (LogMAR)_Left   0.8073175                        \n",
       "                                   Visual.Acuity.Score..LogMAR._Left\n",
       "Age                                 0.76618442                      \n",
       "Years of Driving Experience         0.69424751                      \n",
       "MoCA Score                         -0.06204144                      \n",
       "Visual Acuity Score (LogMAR)_Right  0.80731751                      \n",
       "Visual Acuity Score (LogMAR)_Left   1.00000000                      "
      ]
     },
     "metadata": {},
     "output_type": "display_data"
    }
   ],
   "source": [
    "\n",
    "results"
   ]
  },
  {
   "cell_type": "markdown",
   "metadata": {},
   "source": [
    "## Generic Table"
   ]
  },
  {
   "cell_type": "code",
   "execution_count": 3,
   "metadata": {},
   "outputs": [
    {
     "data": {
      "text/plain": [
       "\n",
       "\n",
       "Table 5 \n",
       "\n",
       "Descriptive statistics for libido as a function of dose.  \n",
       "\n",
       "      dose    M   SD\n",
       "   Placebo 2.20 1.30\n",
       "  Low Dose 3.20 1.30\n",
       " High Dose 5.00 1.58\n",
       "\n",
       "Note. M and SD represent mean and standard deviation, respectively.\n",
       " \n"
      ]
     },
     "metadata": {},
     "output_type": "display_data"
    }
   ],
   "source": [
    "apa.1way.table(iv = dose, dv = libido, data = viagra, \n",
    "               filename = \"Alpha_APA_Table.doc\", \n",
    "               table.number = 5)"
   ]
  },
  {
   "cell_type": "code",
   "execution_count": 3,
   "metadata": {},
   "outputs": [
    {
     "data": {
      "text/plain": [
       "\n",
       "\n",
       "Table 8 \n",
       "\n",
       "Means and standard deviations for attractiveness as a function of a 2(gender) X 3(alcohol) design \n",
       "\n",
       "          alcohol                                                 \n",
       "             None       2 Pints       4 Pints       Marginal      \n",
       "   gender       M    SD       M    SD       M    SD        M    SD\n",
       "   Female   60.62  4.96   62.50  6.55   57.50  7.07    60.21  6.34\n",
       "     Male   66.88 10.33   66.88 12.52   35.62 10.84    56.46 18.50\n",
       " Marginal   63.75  8.47   64.69  9.91   46.56 14.34               \n",
       "\n",
       "Note. M and SD represent mean and standard deviation, respectively. \n",
       "Marginal indicates the means and standard deviations pertaining to main effects. \n"
      ]
     },
     "metadata": {},
     "output_type": "display_data"
    }
   ],
   "source": [
    "apa.2way.table(iv1 = gender,iv2 = alcohol, dv = attractiveness, \n",
    "               data = goggles, \n",
    "               filename = \"Table8_APA.doc\", \n",
    "               show.marginal.means = TRUE,\n",
    "               table.number = 8)"
   ]
  },
  {
   "cell_type": "code",
   "execution_count": 3,
   "metadata": {},
   "outputs": [
    {
     "data": {
      "text/plain": [
       "\n",
       "\n",
       "Table 1 \n",
       "\n",
       "Means, standard deviations, and correlations with confidence intervals\n",
       " \n",
       "\n",
       "  Variable      M     SD    1           2           3           4          \n",
       "  1. rating     64.63 12.17                                                \n",
       "                                                                           \n",
       "  2. complaints 66.60 13.31 .83**                                          \n",
       "                            [.66, .91]                                     \n",
       "                                                                           \n",
       "  3. privileges 53.13 12.24 .43*        .56**                              \n",
       "                            [.08, .68]  [.25, .76]                         \n",
       "                                                                           \n",
       "  4. learning   56.37 11.74 .62**       .60**       .49**                  \n",
       "                            [.34, .80]  [.30, .79]  [.16, .72]             \n",
       "                                                                           \n",
       "  5. raises     64.63 10.40 .59**       .67**       .45*        .64**      \n",
       "                            [.29, .78]  [.41, .83]  [.10, .69]  [.36, .81] \n",
       "                                                                           \n",
       "  6. critical   74.77 9.89  .16         .19         .15         .12        \n",
       "                            [-.22, .49] [-.19, .51] [-.22, .48] [-.25, .46]\n",
       "                                                                           \n",
       "  7. advance    42.93 10.29 .16         .22         .34         .53**      \n",
       "                            [-.22, .49] [-.15, .54] [-.02, .63] [.21, .75] \n",
       "                                                                           \n",
       "  5          6          \n",
       "                        \n",
       "                        \n",
       "                        \n",
       "                        \n",
       "                        \n",
       "                        \n",
       "                        \n",
       "                        \n",
       "                        \n",
       "                        \n",
       "                        \n",
       "                        \n",
       "                        \n",
       "                        \n",
       "  .38*                  \n",
       "  [.02, .65]            \n",
       "                        \n",
       "  .57**      .28        \n",
       "  [.27, .77] [-.09, .58]\n",
       "                        \n",
       "\n",
       "Note. M and SD are used to represent mean and standard deviation, respectively.\n",
       "Values in square brackets indicate the 95% confidence interval.\n",
       "The confidence interval is a plausible range of population correlations \n",
       "that could have caused the sample correlation (Cumming, 2014).\n",
       "* indicates p < .05. ** indicates p < .01.\n",
       " \n"
      ]
     },
     "metadata": {},
     "output_type": "display_data"
    }
   ],
   "source": [
    "apa.cor.table(attitude, filename=\"Table_acc_corr.doc\", table.number=1)"
   ]
  },
  {
   "cell_type": "code",
   "execution_count": 9,
   "metadata": {},
   "outputs": [
    {
     "ename": "ERROR",
     "evalue": "Error in apa.table(data = example, level1.header = c(\"Variable\", \"M\", : could not find function \"apa.table\"\n",
     "output_type": "error",
     "traceback": [
      "Error in apa.table(data = example, level1.header = c(\"Variable\", \"M\", : could not find function \"apa.table\"\nTraceback:\n"
     ]
    }
   ],
   "source": [
    "example <- data.frame(\n",
    "  c(\"Column 1\", \"Column 2\", \"Column 3\"),\n",
    "  c(3.45, 5.21, 2.64),\n",
    "  c(1.23, 1.06, 1.12)\n",
    ")\n",
    "\n",
    "# Create table\n",
    "apa.table(data = example, level1.header = c(\"Variable\", \"M\", \"SD\"))"
   ]
  },
  {
   "cell_type": "code",
   "execution_count": 5,
   "metadata": {},
   "outputs": [
    {
     "ename": "ERROR",
     "evalue": "Error in apa.table(data = example, level1.header = c(\"\", \"Descriptives\", : could not find function \"apa.table\"\n",
     "output_type": "error",
     "traceback": [
      "Error in apa.table(data = example, level1.header = c(\"\", \"Descriptives\", : could not find function \"apa.table\"\nTraceback:\n"
     ]
    }
   ],
   "source": [
    "\n",
    "\n",
    "# Create a table with two headers\n",
    "# Specify statistics\n",
    "example <- data.frame(\n",
    "  c(\"Column 1\", \"Column 2\", \"Column 3\"),\n",
    "  c(3.45, 5.21, 2.64),\n",
    "  c(1.23, 1.06, 1.12),\n",
    "  c(8.22, 25.12, 30.27),\n",
    "  c(\"+\", \"**\", \"***\")\n",
    ")\n",
    "\n",
    "# Run method and preview table\n",
    "apa.table(\n",
    "  data = example,\n",
    "  level1.header = c(\"\", \"Descriptives\", \"Inferential\"),\n",
    "  level1.colspan = c(1, 2, 2),\n",
    "  level2.header = c(\"Variable\", \"M\", \"SD\", \"t-value\", \"*\")\n",
    ")$table"
   ]
  },
  {
   "cell_type": "code",
   "execution_count": null,
   "metadata": {},
   "outputs": [],
   "source": []
  }
 ],
 "metadata": {
  "kernelspec": {
   "display_name": "R",
   "language": "R",
   "name": "ir"
  },
  "language_info": {
   "codemirror_mode": "r",
   "file_extension": ".r",
   "mimetype": "text/x-r-source",
   "name": "R",
   "pygments_lexer": "r",
   "version": "3.5.1"
  }
 },
 "nbformat": 4,
 "nbformat_minor": 2
}
